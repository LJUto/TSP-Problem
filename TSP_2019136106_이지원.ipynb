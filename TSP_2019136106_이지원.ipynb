{
 "cells": [
  {
   "attachments": {},
   "cell_type": "markdown",
   "metadata": {},
   "source": [
    "## 파일 열기 및 데이터 전치리"
   ]
  },
  {
   "cell_type": "code",
   "execution_count": 162,
   "metadata": {},
   "outputs": [],
   "source": [
    "file_path1 = \"C:\\\\Users\\\\user\\\\OneDrive\\\\바탕 화면\\\\fri26_d.txt\" #file_paht1에 바탕화면에 있는 fri26_d.txt 연결\n",
    "file_path2 = \"C:\\\\users\\\\user\\\\OneDrive\\\\바탕 화면\\\\gr17_d.txt\"  #file_path2에 바탕화면에 있는 gr17_d.txt 연결\n",
    "\n",
    "with open(file_path1, \"r\") as file1: #content1 변수에 fri26_d.txt 읽기 형식으로 파일 열기\n",
    "    content1 = file1.read()\n",
    "\n",
    "with open(file_path2, \"r\") as file2: #content2 변수에 gr17_d.txt 읽기 형시으로 파일 열기\n",
    "    content2 = file2.read()\n",
    "\n",
    "lines1 = content1.strip().split('\\n') #fri26_d.txt 데이터 전처리 (줄바꿈 기준으로 리스트로 저장)\n",
    "matrix1 = []\n",
    "for line in lines1:\n",
    "    row = [int(x) for x in line.split()]\n",
    "    matrix1.append(row)\n",
    "\n",
    "lines2 = content2.strip().split('\\n') #gr17_d.txt 데이터 전처리 (줄바꿈 기준으로 리스트로 저장)\n",
    "matrix2 = []\n",
    "for line in lines2:\n",
    "    row = [int(x) for x in line.split()]\n",
    "    matrix2.append(row)\n",
    "\n",
    "    "
   ]
  },
  {
   "attachments": {},
   "cell_type": "markdown",
   "metadata": {},
   "source": [
    "## TSP 알고리즘 작성"
   ]
  },
  {
   "cell_type": "code",
   "execution_count": 291,
   "metadata": {},
   "outputs": [],
   "source": [
    "import numpy as np\n",
    "\n",
    "def tsp_2opt_improved(dists, num_iterations=10):\n",
    "    N = len(dists)\n",
    "    best_path = np.arange(N)\n",
    "    best_length = calculate_path_length(best_path, dists)\n",
    "\n",
    "    for _ in range(num_iterations):\n",
    "        path = generate_initial_path(N)  # 초기 경로 생성\n",
    "        improved = True\n",
    "\n",
    "        while improved:\n",
    "            improved = False\n",
    "            for i in range(1, N - 2):\n",
    "                for j in range(i + 1, N):\n",
    "                    if j - i == 1:  # 인접한 두 도시는 스킵\n",
    "                        continue\n",
    "                    new_path = np.copy(path)\n",
    "                    new_path[i:j] = path[j - 1:i - 1:-1]  # 경로 일부를 뒤집음\n",
    "\n",
    "                    new_length = calculate_path_length(new_path, dists)\n",
    "                    if new_length < calculate_path_length(path, dists):\n",
    "                        path = new_path\n",
    "                        improved = True\n",
    "\n",
    "        current_length = calculate_path_length(path, dists)\n",
    "        if current_length < best_length:\n",
    "            best_path = path\n",
    "            best_length = current_length\n",
    "\n",
    "    return best_length, best_path\n",
    "\n",
    "\n",
    "def generate_initial_path(N):\n",
    "    path = np.arange(N)\n",
    "    np.random.shuffle(path)\n",
    "    return path\n",
    "\n",
    "\n",
    "def calculate_path_length(path, dists):\n",
    "    length = 0\n",
    "    for i in range(len(path) - 1):\n",
    "        length += dists[path[i]][path[i + 1]]\n",
    "    length += dists[path[-1]][path[0]]\n",
    "    return length"
   ]
  },
  {
   "attachments": {},
   "cell_type": "markdown",
   "metadata": {},
   "source": [
    "## TSP (외판원 문제) TEST"
   ]
  },
  {
   "cell_type": "code",
   "execution_count": 300,
   "metadata": {},
   "outputs": [
    {
     "name": "stdout",
     "output_type": "stream",
     "text": [
      "Min Length: 960\n",
      "Min Path: [ 9  8  7  6  4  5  3  1  0 24 23 22 25 21 20 16 17 19 18 15 10 11 12 14\n",
      "  2 13]\n",
      "Execution Time: 2.488565444946289 seconds\n",
      "Min Length: 2085\n",
      "Min Path: [ 6 12  3  0 15 11  8  4  1  9 10  2 14 13 16  5  7]\n",
      "Execution Time: 0.815701961517334 seconds\n"
     ]
    }
   ],
   "source": [
    "import time\n",
    "\n",
    "start_time = time.time()\n",
    "minlength, minpath = tsp_2opt_improved(matrix1)\n",
    "end_time = time.time()\n",
    "\n",
    "# 결과 및 수행 시간 출력\n",
    "print(\"Min Length:\", minlength)\n",
    "print(\"Min Path:\", minpath)\n",
    "print(\"Execution Time:\", end_time - start_time, \"seconds\")\n",
    "\n",
    "start_time1 = time.time()\n",
    "minlength, minpath = tsp_2opt_improved(matrix2)\n",
    "end_time1 = time.time()\n",
    "\n",
    "# 결과 및 수행 시간 출력\n",
    "print(\"Min Length:\", minlength)\n",
    "print(\"Min Path:\", minpath)\n",
    "print(\"Execution Time:\", end_time1 - start_time1, \"seconds\")"
   ]
  },
  {
   "cell_type": "code",
   "execution_count": null,
   "metadata": {},
   "outputs": [],
   "source": []
  }
 ],
 "metadata": {
  "kernelspec": {
   "display_name": "Python 3",
   "language": "python",
   "name": "python3"
  },
  "language_info": {
   "codemirror_mode": {
    "name": "ipython",
    "version": 3
   },
   "file_extension": ".py",
   "mimetype": "text/x-python",
   "name": "python",
   "nbconvert_exporter": "python",
   "pygments_lexer": "ipython3",
   "version": "3.9.13"
  },
  "orig_nbformat": 4
 },
 "nbformat": 4,
 "nbformat_minor": 2
}
